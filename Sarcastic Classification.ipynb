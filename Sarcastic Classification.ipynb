{
 "cells": [
  {
   "cell_type": "code",
   "execution_count": 3,
   "id": "816da41d",
   "metadata": {},
   "outputs": [],
   "source": [
    "import json\n",
    "\n",
    "with open('Sarcasm_Headlines_Dataset.json','r') as f:\n",
    "    datastore=json.load(f)"
   ]
  },
  {
   "cell_type": "code",
   "execution_count": 4,
   "id": "1c0dbd7c",
   "metadata": {},
   "outputs": [],
   "source": [
    "sentences = []\n",
    "labels = []\n",
    "\n",
    "# Collect sentences and labels into the lists\n",
    "for item in datastore:\n",
    "    sentences.append(item['headline'])\n",
    "    labels.append(item['is_sarcastic'])"
   ]
  },
  {
   "cell_type": "code",
   "execution_count": 5,
   "id": "69fbc0e6",
   "metadata": {},
   "outputs": [],
   "source": [
    "## Hyperparameter\n",
    "# Number of examples to use for training\n",
    "training_size = 20000\n",
    "\n",
    "# Vocabulary size of the tokenizer\n",
    "vocab_size = 10000\n",
    "\n",
    "# Maximum length of the padded sequences\n",
    "max_length = 32\n",
    "\n",
    "# Output dimensions of the Embedding layer\n",
    "embedding_dim = 16"
   ]
  },
  {
   "cell_type": "code",
   "execution_count": 6,
   "id": "5c91c96c",
   "metadata": {},
   "outputs": [],
   "source": [
    "# Split the sentences\n",
    "training_sentences = sentences[0:training_size]\n",
    "testing_sentences = sentences[training_size:]\n",
    "\n",
    "# Split the labels\n",
    "training_labels = labels[0:training_size]\n",
    "testing_labels = labels[training_size:]"
   ]
  },
  {
   "cell_type": "code",
   "execution_count": 7,
   "id": "36641963",
   "metadata": {},
   "outputs": [],
   "source": [
    "import numpy as np\n",
    "from tensorflow.keras.preprocessing.text import Tokenizer\n",
    "from tensorflow.keras.preprocessing.sequence import pad_sequences\n",
    "\n",
    "# Parameters for padding and OOV tokens\n",
    "trunc_type='post'\n",
    "padding_type='post'\n",
    "oov_tok = \"<OOV>\"\n",
    "\n",
    "# Initialize the Tokenizer class\n",
    "tokenizer = Tokenizer(num_words=vocab_size, oov_token=oov_tok)\n",
    "\n",
    "# Generate the word index dictionary\n",
    "tokenizer.fit_on_texts(training_sentences)\n",
    "word_index = tokenizer.word_index\n",
    "\n",
    "# Generate and pad the training sequences\n",
    "training_sequences = tokenizer.texts_to_sequences(training_sentences)\n",
    "training_padded = pad_sequences(training_sequences, maxlen=max_length, padding=padding_type, truncating=trunc_type)\n",
    "\n",
    "# Generate and pad the testing sequences\n",
    "testing_sequences = tokenizer.texts_to_sequences(testing_sentences)\n",
    "testing_padded = pad_sequences(testing_sequences, maxlen=max_length, padding=padding_type, truncating=trunc_type)\n",
    "\n",
    "# Convert the labels lists into numpy arrays\n",
    "training_labels = np.array(training_labels)\n",
    "testing_labels = np.array(testing_labels)"
   ]
  },
  {
   "cell_type": "code",
   "execution_count": 8,
   "id": "95e459ef",
   "metadata": {},
   "outputs": [
    {
     "name": "stdout",
     "output_type": "stream",
     "text": [
      "shape of sample_array = (1, 3, 2)\n",
      "sample array: [[[10  2]\n",
      "  [ 1  3]\n",
      "  [ 1  1]]]\n",
      "output shape of gap1d_layer: (1, 2)\n",
      "output array of gap1d_layer: [[4 2]]\n"
     ]
    }
   ],
   "source": [
    "import tensorflow as tf\n",
    "\n",
    "# Initialize a GlobalAveragePooling1D (GAP1D) layer\n",
    "gap1d_layer = tf.keras.layers.GlobalAveragePooling1D()\n",
    "\n",
    "# Define sample array\n",
    "sample_array = np.array([[[10,2],[1,3],[1,1]]])\n",
    "\n",
    "# Print shape and contents of sample array\n",
    "print(f'shape of sample_array = {sample_array.shape}')\n",
    "print(f'sample array: {sample_array}')\n",
    "\n",
    "# Pass the sample array to the GAP1D layer\n",
    "output = gap1d_layer(sample_array)\n",
    "\n",
    "# Print shape and contents of the GAP1D output array\n",
    "print(f'output shape of gap1d_layer: {output.shape}')\n",
    "print(f'output array of gap1d_layer: {output.numpy()}')"
   ]
  },
  {
   "cell_type": "code",
   "execution_count": 9,
   "id": "8a0590ba",
   "metadata": {},
   "outputs": [],
   "source": [
    "# Build the model\n",
    "model = tf.keras.Sequential([\n",
    "    tf.keras.layers.Embedding(vocab_size, embedding_dim, input_length=max_length),\n",
    "    tf.keras.layers.GlobalAveragePooling1D(),\n",
    "    tf.keras.layers.Dense(24, activation='relu'),\n",
    "    tf.keras.layers.Dense(1, activation='sigmoid')\n",
    "])"
   ]
  },
  {
   "cell_type": "code",
   "execution_count": 11,
   "id": "0af5b500",
   "metadata": {},
   "outputs": [
    {
     "name": "stdout",
     "output_type": "stream",
     "text": [
      "Epoch 1/30\n",
      "625/625 - 1s - loss: 0.5693 - accuracy: 0.6965 - val_loss: 0.4073 - val_accuracy: 0.8338 - 1s/epoch - 2ms/step\n",
      "Epoch 2/30\n",
      "625/625 - 1s - loss: 0.3201 - accuracy: 0.8713 - val_loss: 0.3462 - val_accuracy: 0.8553 - 641ms/epoch - 1ms/step\n",
      "Epoch 3/30\n",
      "625/625 - 1s - loss: 0.2392 - accuracy: 0.9060 - val_loss: 0.3484 - val_accuracy: 0.8539 - 614ms/epoch - 982us/step\n",
      "Epoch 4/30\n",
      "625/625 - 1s - loss: 0.1937 - accuracy: 0.9250 - val_loss: 0.3587 - val_accuracy: 0.8530 - 564ms/epoch - 902us/step\n",
      "Epoch 5/30\n",
      "625/625 - 1s - loss: 0.1607 - accuracy: 0.9409 - val_loss: 0.3857 - val_accuracy: 0.8486 - 556ms/epoch - 890us/step\n",
      "Epoch 6/30\n",
      "625/625 - 1s - loss: 0.1367 - accuracy: 0.9517 - val_loss: 0.4108 - val_accuracy: 0.8475 - 574ms/epoch - 919us/step\n",
      "Epoch 7/30\n",
      "625/625 - 1s - loss: 0.1162 - accuracy: 0.9607 - val_loss: 0.4520 - val_accuracy: 0.8454 - 598ms/epoch - 957us/step\n",
      "Epoch 8/30\n",
      "625/625 - 1s - loss: 0.1012 - accuracy: 0.9668 - val_loss: 0.4930 - val_accuracy: 0.8408 - 592ms/epoch - 947us/step\n",
      "Epoch 9/30\n",
      "625/625 - 1s - loss: 0.0887 - accuracy: 0.9711 - val_loss: 0.5325 - val_accuracy: 0.8377 - 601ms/epoch - 962us/step\n",
      "Epoch 10/30\n",
      "625/625 - 1s - loss: 0.0773 - accuracy: 0.9754 - val_loss: 0.5835 - val_accuracy: 0.8326 - 555ms/epoch - 887us/step\n",
      "Epoch 11/30\n",
      "625/625 - 1s - loss: 0.0674 - accuracy: 0.9790 - val_loss: 0.6371 - val_accuracy: 0.8302 - 596ms/epoch - 953us/step\n",
      "Epoch 12/30\n",
      "625/625 - 1s - loss: 0.0593 - accuracy: 0.9813 - val_loss: 0.6837 - val_accuracy: 0.8262 - 617ms/epoch - 987us/step\n",
      "Epoch 13/30\n",
      "625/625 - 1s - loss: 0.0525 - accuracy: 0.9834 - val_loss: 0.7440 - val_accuracy: 0.8216 - 579ms/epoch - 926us/step\n",
      "Epoch 14/30\n",
      "625/625 - 1s - loss: 0.0452 - accuracy: 0.9869 - val_loss: 0.7913 - val_accuracy: 0.8202 - 617ms/epoch - 988us/step\n",
      "Epoch 15/30\n",
      "625/625 - 1s - loss: 0.0399 - accuracy: 0.9881 - val_loss: 0.8627 - val_accuracy: 0.8170 - 573ms/epoch - 918us/step\n",
      "Epoch 16/30\n",
      "625/625 - 1s - loss: 0.0346 - accuracy: 0.9911 - val_loss: 0.9171 - val_accuracy: 0.8165 - 562ms/epoch - 900us/step\n",
      "Epoch 17/30\n",
      "625/625 - 1s - loss: 0.0320 - accuracy: 0.9908 - val_loss: 0.9946 - val_accuracy: 0.8126 - 568ms/epoch - 909us/step\n",
      "Epoch 18/30\n",
      "625/625 - 1s - loss: 0.0284 - accuracy: 0.9920 - val_loss: 1.0513 - val_accuracy: 0.8140 - 556ms/epoch - 890us/step\n",
      "Epoch 19/30\n",
      "625/625 - 1s - loss: 0.0244 - accuracy: 0.9936 - val_loss: 1.1010 - val_accuracy: 0.8135 - 583ms/epoch - 933us/step\n",
      "Epoch 20/30\n",
      "625/625 - 1s - loss: 0.0219 - accuracy: 0.9944 - val_loss: 1.1736 - val_accuracy: 0.8103 - 597ms/epoch - 955us/step\n",
      "Epoch 21/30\n",
      "625/625 - 1s - loss: 0.0198 - accuracy: 0.9945 - val_loss: 1.2558 - val_accuracy: 0.8088 - 565ms/epoch - 904us/step\n",
      "Epoch 22/30\n",
      "625/625 - 1s - loss: 0.0180 - accuracy: 0.9955 - val_loss: 1.3010 - val_accuracy: 0.8086 - 627ms/epoch - 1ms/step\n",
      "Epoch 23/30\n",
      "625/625 - 1s - loss: 0.0166 - accuracy: 0.9957 - val_loss: 1.3806 - val_accuracy: 0.8071 - 567ms/epoch - 908us/step\n",
      "Epoch 24/30\n",
      "625/625 - 1s - loss: 0.0139 - accuracy: 0.9967 - val_loss: 1.4154 - val_accuracy: 0.8064 - 566ms/epoch - 906us/step\n",
      "Epoch 25/30\n",
      "625/625 - 1s - loss: 0.0125 - accuracy: 0.9968 - val_loss: 1.4837 - val_accuracy: 0.8064 - 601ms/epoch - 962us/step\n",
      "Epoch 26/30\n",
      "625/625 - 1s - loss: 0.0113 - accuracy: 0.9973 - val_loss: 1.5864 - val_accuracy: 0.8047 - 598ms/epoch - 957us/step\n",
      "Epoch 27/30\n",
      "625/625 - 1s - loss: 0.0110 - accuracy: 0.9974 - val_loss: 1.5712 - val_accuracy: 0.8055 - 593ms/epoch - 949us/step\n",
      "Epoch 28/30\n",
      "625/625 - 1s - loss: 0.0105 - accuracy: 0.9974 - val_loss: 1.6397 - val_accuracy: 0.8044 - 569ms/epoch - 911us/step\n",
      "Epoch 29/30\n",
      "625/625 - 1s - loss: 0.0095 - accuracy: 0.9977 - val_loss: 1.6774 - val_accuracy: 0.8049 - 570ms/epoch - 913us/step\n",
      "Epoch 30/30\n",
      "625/625 - 1s - loss: 0.0077 - accuracy: 0.9985 - val_loss: 1.7017 - val_accuracy: 0.8041 - 575ms/epoch - 920us/step\n"
     ]
    }
   ],
   "source": [
    "num_epochs = 30\n",
    "# Compile the model\n",
    "model.compile(loss='binary_crossentropy',optimizer='adam',metrics=['accuracy'])\n",
    "# Train the model\n",
    "history = model.fit(training_padded, training_labels, epochs=num_epochs, validation_data=(testing_padded, testing_labels), verbose=2)"
   ]
  },
  {
   "cell_type": "code",
   "execution_count": 12,
   "id": "50a6ceff",
   "metadata": {},
   "outputs": [
    {
     "data": {
      "image/png": "[encoded data removed]",
      "text/plain": [
       "<Figure size 432x288 with 1 Axes>"
      ]
     },
     "metadata": {
      "needs_background": "light"
     },
     "output_type": "display_data"
    },
    {
     "data": {
      "image/png": "[encoded data removed]",
      "text/plain": [
       "<Figure size 432x288 with 1 Axes>"
      ]
     },
     "metadata": {
      "needs_background": "light"
     },
     "output_type": "display_data"
    }
   ],
   "source": [
    "import matplotlib.pyplot as plt\n",
    "\n",
    "# Plot utility\n",
    "def plot_graphs(history, string):\n",
    "    plt.plot(history.history[string])\n",
    "    plt.plot(history.history['val_'+string])\n",
    "    plt.xlabel(\"Epochs\")\n",
    "    plt.ylabel(string)\n",
    "    plt.legend([string, 'val_'+string])\n",
    "    plt.show()\n",
    "  \n",
    "# Plot the accuracy and loss\n",
    "plot_graphs(history, \"accuracy\")\n",
    "plot_graphs(history, \"loss\")"
   ]
  },
  {
   "cell_type": "markdown",
   "id": "b46899ec",
   "metadata": {},
   "source": [
    "### 'https://github.com/tensorflow/datasets/tree/master/docs/catalog'"
   ]
  },
  {
   "cell_type": "code",
   "execution_count": null,
   "id": "09cc2a02",
   "metadata": {},
   "outputs": [],
   "source": []
  }
 ],
 "metadata": {
  "hide_input": false,
  "kernelspec": {
   "display_name": "Python 3 (ipykernel)",
   "language": "python",
   "name": "python3"
  },
  "language_info": {
   "codemirror_mode": {
    "name": "ipython",
    "version": 3
   },
   "file_extension": ".py",
   "mimetype": "text/x-python",
   "name": "python",
   "nbconvert_exporter": "python",
   "pygments_lexer": "ipython3",
   "version": "3.9.7"
  }
 },
 "nbformat": 4,
 "nbformat_minor": 5
}
